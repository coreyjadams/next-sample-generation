{
 "cells": [
  {
   "cell_type": "code",
   "execution_count": 3,
   "metadata": {},
   "outputs": [],
   "source": [
    "import larcv\n",
    "import numpy\n",
    "from matplotlib import pyplot as plt"
   ]
  },
  {
   "cell_type": "code",
   "execution_count": 4,
   "metadata": {},
   "outputs": [],
   "source": [
    "f_all  = \"/data/datasets/NEXT/NEW-simulation/tl208/simulated-tl208-dev.h5\"\n",
    "f_cuts = \"/data/datasets/NEXT/NEW-simulation/tl208/simulated-tl208-dev-cuts.h5\""
   ]
  },
  {
   "cell_type": "code",
   "execution_count": 5,
   "metadata": {},
   "outputs": [],
   "source": [
    "def get_energy_and_label(f_name):\n",
    "    io = larcv.IOManager()\n",
    "    io.add_in_file(f_name)\n",
    "    io.initialize()\n",
    "    print(io.product_list())\n",
    "    print(io.producer_list(\"cluster3d\"))\n",
    "\n",
    "    true_energy = []\n",
    "    si_energy   = []\n",
    "    label       = []\n",
    "    mc_dep_e    = []\n",
    "\n",
    "    for i_entry in range(io.get_n_entries()):\n",
    "        io.read_entry(i_entry)\n",
    "\n",
    "        pmaps = io.get_data(\"sparse3d\",\"S2Si\").at(0)\n",
    "        summed_energy = numpy.sum(pmaps.values())\n",
    "        si_energy.append(summed_energy)\n",
    "\n",
    "        e_deps = io.get_data(\"cluster3d\",\"mc_hits\").at(0)\n",
    "\n",
    "        mc_energy = 0.0\n",
    "        for cluster in e_deps.as_vector():\n",
    "            mc_energy += numpy.sum(cluster.values())\n",
    "        mc_dep_e.append(mc_energy)\n",
    "\n",
    "        p_label = io.get_data(\"particle\", \"event\")\n",
    "        # print(p_label.at(0).energy_init())\n",
    "        label.append(p_label.at(0).pdg_code())\n",
    "        true_energy.append(p_label.at(0).energy_init())\n",
    "        \n",
    "    return numpy.asarray(true_energy), numpy.asarray(si_energy), numpy.asarray(label), numpy.asarray(mc_dep_e)\n",
    "\n",
    "\n"
   ]
  },
  {
   "cell_type": "code",
   "execution_count": 6,
   "metadata": {},
   "outputs": [
    {
     "name": "stdout",
     "output_type": "stream",
     "text": [
      "['bbox3d', 'cluster3d', 'particle', 'particle', 'sparse2d', 'sparse3d']\n",
      "['mc_hits']\n",
      "    \u001b[95m[NORMAL]\u001b[00m \u001b[0m \u001b[94m<IOManager::prepare_input>\u001b[00m Opening a file in READ mode: \"/data/datasets/NEXT/NEW-simulation/tl208/simulated-tl208-dev.h5\"\n",
      "    \u001b[95m[NORMAL]\u001b[00m \u001b[0m \u001b[94m<IOManager::prepare_input>\u001b[00m File \"/data/datasets/NEXT/NEW-simulation/tl208/simulated-tl208-dev.h5\" has 3278 entries\n",
      "    \u001b[95m[NORMAL]\u001b[00m \u001b[0m \u001b[94m<IOManager::initialize>\u001b[00m Prepared input with 3278 entries...\n"
     ]
    }
   ],
   "source": [
    "true_energy, si_energy, label, mc_dep_e = get_energy_and_label(f_all)"
   ]
  },
  {
   "cell_type": "code",
   "execution_count": 28,
   "metadata": {},
   "outputs": [
    {
     "name": "stdout",
     "output_type": "stream",
     "text": [
      "[  0   0   0   0   0   0   0   0   0   0   0   1   3   4   9  15  29  18\n",
      "  23  32  64 106  96  29  16  17   7  15   5   4   4   3   5   9   5   2\n",
      "   1   1   1   0   1   0   0   0   0   0   0   0   0   0   0   0   0   0\n",
      "   0   0   0   0   0   0   0   0   0]\n",
      "[ 4125.  4375.  4625.  4875.  5125.  5375.  5625.  5875.  6125.  6375.\n",
      "  6625.  6875.  7125.  7375.  7625.  7875.  8125.  8375.  8625.  8875.\n",
      "  9125.  9375.  9625.  9875. 10125. 10375. 10625. 10875. 11125. 11375.\n",
      " 11625. 11875. 12125. 12375. 12625. 12875. 13125. 13375. 13625. 13875.\n",
      " 14125. 14375. 14625. 14875. 15125. 15375. 15625. 15875. 16125. 16375.\n",
      " 16625. 16875. 17125. 17375. 17625. 17875. 18125. 18375. 18625. 18875.\n",
      " 19125. 19375. 19625.]\n"
     ]
    },
    {
     "data": {
      "image/png": "[encoded data removed]",
      "text/plain": [
       "<Figure size 1600x900 with 1 Axes>"
      ]
     },
     "metadata": {},
     "output_type": "display_data"
    }
   ],
   "source": [
    "plt.figure(figsize=(16,9))\n",
    "\n",
    "sig_mask = label==1\n",
    "bkg_mask = label==0\n",
    "\n",
    "bins = numpy.arange(4000,20000, 250)\n",
    "width= bins[1] - bins[0]\n",
    "def histogram(data_arr, bins):\n",
    "    counts, edges = numpy.histogram(data_arr, bins)\n",
    "\n",
    "    return counts, 0.5*(edges[1:] + edges[:-1])\n",
    "\n",
    "sig_counts, sig_x = histogram(si_energy[sig_mask], bins)\n",
    "bkg_counts, bkg_x = histogram(si_energy[bkg_mask], bins)\n",
    "plt.bar(sig_x, bkg_counts, bottom=sig_counts, width=width)\n",
    "plt.bar(sig_x, sig_counts, width=width)\n",
    "\n",
    "plt.grid(True)\n",
    "plt.show()"
   ]
  },
  {
   "cell_type": "code",
   "execution_count": 17,
   "metadata": {},
   "outputs": [
    {
     "ename": "TypeError",
     "evalue": "histogram() missing 1 required positional argument: 'bins'",
     "output_type": "error",
     "traceback": [
      "\u001b[0;31m---------------------------------------------------------------------------\u001b[0m",
      "\u001b[0;31mTypeError\u001b[0m                                 Traceback (most recent call last)",
      "Cell \u001b[0;32mIn[17], line 12\u001b[0m\n\u001b[1;32m      8\u001b[0m     counts, edges \u001b[39m=\u001b[39m numpy\u001b[39m.\u001b[39mhistogram(data_arr, bins)\n\u001b[1;32m     10\u001b[0m     \u001b[39mreturn\u001b[39;00m counts, \u001b[39m0.5\u001b[39m\u001b[39m*\u001b[39m(edges[\u001b[39m1\u001b[39m:] \u001b[39m+\u001b[39m edges[:\u001b[39m-\u001b[39m\u001b[39m1\u001b[39m])\n\u001b[0;32m---> 12\u001b[0m sig_counts, sig_x \u001b[39m=\u001b[39m histogram(si_energy[sig_mask])\n\u001b[1;32m     14\u001b[0m plt\u001b[39m.\u001b[39mbar(sig_x, sig_counts)\n\u001b[1;32m     15\u001b[0m \u001b[39m# plt.hist(si_energy[bkg_mask], bins=100, zorder=3)\u001b[39;00m\n",
      "\u001b[0;31mTypeError\u001b[0m: histogram() missing 1 required positional argument: 'bins'"
     ]
    },
    {
     "data": {
      "text/plain": [
       "<Figure size 1600x900 with 0 Axes>"
      ]
     },
     "metadata": {},
     "output_type": "display_data"
    }
   ],
   "source": [
    "plt.figure(figsize=(16,9))\n",
    "\n",
    "sig_mask = label==1\n",
    "bkg_mask = label==0\n",
    "\n",
    "bins = numpy.arange(4000,20000, 5)\n",
    "def histogram(data_arr, bins):\n",
    "    counts, edges = numpy.histogram(data_arr, bins)\n",
    "\n",
    "    return counts, 0.5*(edges[1:] + edges[:-1])\n",
    "\n",
    "sig_counts, sig_x = histogram(si_energy[sig_mask])\n",
    "\n",
    "plt.bar(sig_x, sig_counts)\n",
    "# plt.hist(si_energy[bkg_mask], bins=100, zorder=3)\n",
    "\n",
    "plt.grid(True)\n",
    "plt.show()"
   ]
  },
  {
   "cell_type": "code",
   "execution_count": 8,
   "metadata": {},
   "outputs": [
    {
     "data": {
      "text/plain": [
       "525"
      ]
     },
     "execution_count": 8,
     "metadata": {},
     "output_type": "execute_result"
    }
   ],
   "source": [
    "numpy.sum(label==1)"
   ]
  },
  {
   "cell_type": "code",
   "execution_count": 9,
   "metadata": {},
   "outputs": [
    {
     "data": {
      "text/plain": [
       "2753"
      ]
     },
     "execution_count": 9,
     "metadata": {},
     "output_type": "execute_result"
    }
   ],
   "source": [
    "numpy.sum(label==0)"
   ]
  },
  {
   "cell_type": "code",
   "execution_count": null,
   "metadata": {},
   "outputs": [],
   "source": []
  },
  {
   "cell_type": "code",
   "execution_count": null,
   "metadata": {},
   "outputs": [],
   "source": []
  }
 ],
 "metadata": {
  "kernelspec": {
   "display_name": "Python 3",
   "language": "python",
   "name": "python3"
  },
  "language_info": {
   "codemirror_mode": {
    "name": "ipython",
    "version": 3
   },
   "file_extension": ".py",
   "mimetype": "text/x-python",
   "name": "python",
   "nbconvert_exporter": "python",
   "pygments_lexer": "ipython3",
   "version": "3.10.12"
  },
  "orig_nbformat": 4
 },
 "nbformat": 4,
 "nbformat_minor": 2
}
